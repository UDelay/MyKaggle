{
 "cells": [
  {
   "cell_type": "code",
   "execution_count": 1,
   "id": "4f90e91d",
   "metadata": {
    "_cell_guid": "b1076dfc-b9ad-4769-8c92-a6c4dae69d19",
    "_uuid": "8f2839f25d086af736a60e9eeb907d3b93b6e0e5",
    "execution": {
     "iopub.execute_input": "2024-08-28T04:20:17.767378Z",
     "iopub.status.busy": "2024-08-28T04:20:17.766775Z",
     "iopub.status.idle": "2024-08-28T04:20:18.800713Z",
     "shell.execute_reply": "2024-08-28T04:20:18.799223Z"
    },
    "papermill": {
     "duration": 1.047105,
     "end_time": "2024-08-28T04:20:18.803553",
     "exception": false,
     "start_time": "2024-08-28T04:20:17.756448",
     "status": "completed"
    },
    "tags": []
   },
   "outputs": [
    {
     "name": "stdout",
     "output_type": "stream",
     "text": [
      "/kaggle/input/titanic/train.csv\n",
      "/kaggle/input/titanic/test.csv\n",
      "/kaggle/input/titanic/gender_submission.csv\n"
     ]
    }
   ],
   "source": [
    "# This Python 3 environment comes with many helpful analytics libraries installed\n",
    "# It is defined by the kaggle/python Docker image: https://github.com/kaggle/docker-python\n",
    "# For example, here's several helpful packages to load\n",
    "\n",
    "import numpy as np # linear algebra\n",
    "import pandas as pd # data processing, CSV file I/O (e.g. pd.read_csv)\n",
    "\n",
    "# Input data files are available in the read-only \"../input/\" directory\n",
    "# For example, running this (by clicking run or pressing Shift+Enter) will list all files under the input directory\n",
    "\n",
    "import os\n",
    "for dirname, _, filenames in os.walk('/kaggle/input'):\n",
    "    for filename in filenames:\n",
    "        print(os.path.join(dirname, filename))\n",
    "\n",
    "# You can write up to 20GB to the current directory (/kaggle/working/) that gets preserved as output when you create a version using \"Save & Run All\" \n",
    "# You can also write temporary files to /kaggle/temp/, but they won't be saved outside of the current session"
   ]
  },
  {
   "cell_type": "code",
   "execution_count": 2,
   "id": "232869f6",
   "metadata": {
    "execution": {
     "iopub.execute_input": "2024-08-28T04:20:18.821315Z",
     "iopub.status.busy": "2024-08-28T04:20:18.820712Z",
     "iopub.status.idle": "2024-08-28T04:20:21.837966Z",
     "shell.execute_reply": "2024-08-28T04:20:21.836628Z"
    },
    "papermill": {
     "duration": 3.029417,
     "end_time": "2024-08-28T04:20:21.840986",
     "exception": false,
     "start_time": "2024-08-28T04:20:18.811569",
     "status": "completed"
    },
    "tags": []
   },
   "outputs": [],
   "source": [
    "## 데이터 시각화 관련\n",
    "import matplotlib.pyplot as plt\n",
    "import seaborn as sns\n",
    "sns.set_style('whitegrid') # matplotlib의 스타일에 관련한 함\n",
    "## 그래프 출력에 필요한 IPython 명령어\n",
    "%matplotlib inline \n",
    "\n",
    "## Scikit-Learn의 다양한 머신러닝 모듈을 불러옵니다.\n",
    "## 분류 알고리즘 중에서 선형회귀, 서포트벡터머신, 랜덤포레스트, K-최근접이웃 알고리즘을 사용해보려고 합니다.\n",
    "from sklearn.linear_model import LogisticRegression\n",
    "from sklearn.svm import SVC, LinearSVC\n",
    "from sklearn.ensemble import RandomForestClassifier\n",
    "from sklearn.neighbors import KNeighborsClassifier"
   ]
  },
  {
   "cell_type": "code",
   "execution_count": 3,
   "id": "8c5ee34d",
   "metadata": {
    "execution": {
     "iopub.execute_input": "2024-08-28T04:20:21.859203Z",
     "iopub.status.busy": "2024-08-28T04:20:21.858537Z",
     "iopub.status.idle": "2024-08-28T04:20:21.920970Z",
     "shell.execute_reply": "2024-08-28T04:20:21.919207Z"
    },
    "papermill": {
     "duration": 0.07505,
     "end_time": "2024-08-28T04:20:21.923970",
     "exception": false,
     "start_time": "2024-08-28T04:20:21.848920",
     "status": "completed"
    },
    "tags": []
   },
   "outputs": [
    {
     "data": {
      "text/html": [
       "<div>\n",
       "<style scoped>\n",
       "    .dataframe tbody tr th:only-of-type {\n",
       "        vertical-align: middle;\n",
       "    }\n",
       "\n",
       "    .dataframe tbody tr th {\n",
       "        vertical-align: top;\n",
       "    }\n",
       "\n",
       "    .dataframe thead th {\n",
       "        text-align: right;\n",
       "    }\n",
       "</style>\n",
       "<table border=\"1\" class=\"dataframe\">\n",
       "  <thead>\n",
       "    <tr style=\"text-align: right;\">\n",
       "      <th></th>\n",
       "      <th>PassengerId</th>\n",
       "      <th>Survived</th>\n",
       "      <th>Pclass</th>\n",
       "      <th>Name</th>\n",
       "      <th>Sex</th>\n",
       "      <th>Age</th>\n",
       "      <th>SibSp</th>\n",
       "      <th>Parch</th>\n",
       "      <th>Ticket</th>\n",
       "      <th>Fare</th>\n",
       "      <th>Cabin</th>\n",
       "      <th>Embarked</th>\n",
       "    </tr>\n",
       "  </thead>\n",
       "  <tbody>\n",
       "    <tr>\n",
       "      <th>0</th>\n",
       "      <td>1</td>\n",
       "      <td>0</td>\n",
       "      <td>3</td>\n",
       "      <td>Braund, Mr. Owen Harris</td>\n",
       "      <td>male</td>\n",
       "      <td>22.0</td>\n",
       "      <td>1</td>\n",
       "      <td>0</td>\n",
       "      <td>A/5 21171</td>\n",
       "      <td>7.2500</td>\n",
       "      <td>NaN</td>\n",
       "      <td>S</td>\n",
       "    </tr>\n",
       "    <tr>\n",
       "      <th>1</th>\n",
       "      <td>2</td>\n",
       "      <td>1</td>\n",
       "      <td>1</td>\n",
       "      <td>Cumings, Mrs. John Bradley (Florence Briggs Th...</td>\n",
       "      <td>female</td>\n",
       "      <td>38.0</td>\n",
       "      <td>1</td>\n",
       "      <td>0</td>\n",
       "      <td>PC 17599</td>\n",
       "      <td>71.2833</td>\n",
       "      <td>C85</td>\n",
       "      <td>C</td>\n",
       "    </tr>\n",
       "    <tr>\n",
       "      <th>2</th>\n",
       "      <td>3</td>\n",
       "      <td>1</td>\n",
       "      <td>3</td>\n",
       "      <td>Heikkinen, Miss. Laina</td>\n",
       "      <td>female</td>\n",
       "      <td>26.0</td>\n",
       "      <td>0</td>\n",
       "      <td>0</td>\n",
       "      <td>STON/O2. 3101282</td>\n",
       "      <td>7.9250</td>\n",
       "      <td>NaN</td>\n",
       "      <td>S</td>\n",
       "    </tr>\n",
       "    <tr>\n",
       "      <th>3</th>\n",
       "      <td>4</td>\n",
       "      <td>1</td>\n",
       "      <td>1</td>\n",
       "      <td>Futrelle, Mrs. Jacques Heath (Lily May Peel)</td>\n",
       "      <td>female</td>\n",
       "      <td>35.0</td>\n",
       "      <td>1</td>\n",
       "      <td>0</td>\n",
       "      <td>113803</td>\n",
       "      <td>53.1000</td>\n",
       "      <td>C123</td>\n",
       "      <td>S</td>\n",
       "    </tr>\n",
       "    <tr>\n",
       "      <th>4</th>\n",
       "      <td>5</td>\n",
       "      <td>0</td>\n",
       "      <td>3</td>\n",
       "      <td>Allen, Mr. William Henry</td>\n",
       "      <td>male</td>\n",
       "      <td>35.0</td>\n",
       "      <td>0</td>\n",
       "      <td>0</td>\n",
       "      <td>373450</td>\n",
       "      <td>8.0500</td>\n",
       "      <td>NaN</td>\n",
       "      <td>S</td>\n",
       "    </tr>\n",
       "  </tbody>\n",
       "</table>\n",
       "</div>"
      ],
      "text/plain": [
       "   PassengerId  Survived  Pclass  \\\n",
       "0            1         0       3   \n",
       "1            2         1       1   \n",
       "2            3         1       3   \n",
       "3            4         1       1   \n",
       "4            5         0       3   \n",
       "\n",
       "                                                Name     Sex   Age  SibSp  \\\n",
       "0                            Braund, Mr. Owen Harris    male  22.0      1   \n",
       "1  Cumings, Mrs. John Bradley (Florence Briggs Th...  female  38.0      1   \n",
       "2                             Heikkinen, Miss. Laina  female  26.0      0   \n",
       "3       Futrelle, Mrs. Jacques Heath (Lily May Peel)  female  35.0      1   \n",
       "4                           Allen, Mr. William Henry    male  35.0      0   \n",
       "\n",
       "   Parch            Ticket     Fare Cabin Embarked  \n",
       "0      0         A/5 21171   7.2500   NaN        S  \n",
       "1      0          PC 17599  71.2833   C85        C  \n",
       "2      0  STON/O2. 3101282   7.9250   NaN        S  \n",
       "3      0            113803  53.1000  C123        S  \n",
       "4      0            373450   8.0500   NaN        S  "
      ]
     },
     "execution_count": 3,
     "metadata": {},
     "output_type": "execute_result"
    }
   ],
   "source": [
    "# 데이터를 우선 가져와야합니다.\n",
    "train_df = pd.read_csv(\"/kaggle/input/titanic/train.csv\")\n",
    "test_df = pd.read_csv(\"/kaggle/input/titanic/test.csv\")\n",
    "\n",
    "# 데이터 미리보기\n",
    "train_df.head()"
   ]
  },
  {
   "cell_type": "code",
   "execution_count": 4,
   "id": "57b6ba25",
   "metadata": {
    "execution": {
     "iopub.execute_input": "2024-08-28T04:20:21.942479Z",
     "iopub.status.busy": "2024-08-28T04:20:21.941988Z",
     "iopub.status.idle": "2024-08-28T04:20:21.980319Z",
     "shell.execute_reply": "2024-08-28T04:20:21.978829Z"
    },
    "papermill": {
     "duration": 0.050948,
     "end_time": "2024-08-28T04:20:21.983306",
     "exception": false,
     "start_time": "2024-08-28T04:20:21.932358",
     "status": "completed"
    },
    "tags": []
   },
   "outputs": [
    {
     "name": "stdout",
     "output_type": "stream",
     "text": [
      "<class 'pandas.core.frame.DataFrame'>\n",
      "RangeIndex: 891 entries, 0 to 890\n",
      "Data columns (total 12 columns):\n",
      " #   Column       Non-Null Count  Dtype  \n",
      "---  ------       --------------  -----  \n",
      " 0   PassengerId  891 non-null    int64  \n",
      " 1   Survived     891 non-null    int64  \n",
      " 2   Pclass       891 non-null    int64  \n",
      " 3   Name         891 non-null    object \n",
      " 4   Sex          891 non-null    object \n",
      " 5   Age          714 non-null    float64\n",
      " 6   SibSp        891 non-null    int64  \n",
      " 7   Parch        891 non-null    int64  \n",
      " 8   Ticket       891 non-null    object \n",
      " 9   Fare         891 non-null    float64\n",
      " 10  Cabin        204 non-null    object \n",
      " 11  Embarked     889 non-null    object \n",
      "dtypes: float64(2), int64(5), object(5)\n",
      "memory usage: 83.7+ KB\n",
      "--------------------\n",
      "<class 'pandas.core.frame.DataFrame'>\n",
      "RangeIndex: 418 entries, 0 to 417\n",
      "Data columns (total 11 columns):\n",
      " #   Column       Non-Null Count  Dtype  \n",
      "---  ------       --------------  -----  \n",
      " 0   PassengerId  418 non-null    int64  \n",
      " 1   Pclass       418 non-null    int64  \n",
      " 2   Name         418 non-null    object \n",
      " 3   Sex          418 non-null    object \n",
      " 4   Age          332 non-null    float64\n",
      " 5   SibSp        418 non-null    int64  \n",
      " 6   Parch        418 non-null    int64  \n",
      " 7   Ticket       418 non-null    object \n",
      " 8   Fare         417 non-null    float64\n",
      " 9   Cabin        91 non-null     object \n",
      " 10  Embarked     418 non-null    object \n",
      "dtypes: float64(2), int64(4), object(5)\n",
      "memory usage: 36.0+ KB\n"
     ]
    }
   ],
   "source": [
    "train_df.info()\n",
    "print('-'*20)\n",
    "test_df.info()"
   ]
  },
  {
   "cell_type": "code",
   "execution_count": 5,
   "id": "6165eb76",
   "metadata": {
    "execution": {
     "iopub.execute_input": "2024-08-28T04:20:22.002645Z",
     "iopub.status.busy": "2024-08-28T04:20:22.002125Z",
     "iopub.status.idle": "2024-08-28T04:20:22.015279Z",
     "shell.execute_reply": "2024-08-28T04:20:22.013559Z"
    },
    "papermill": {
     "duration": 0.026298,
     "end_time": "2024-08-28T04:20:22.018263",
     "exception": false,
     "start_time": "2024-08-28T04:20:21.991965",
     "status": "completed"
    },
    "tags": []
   },
   "outputs": [],
   "source": [
    "train_df = train_df.drop(['PassengerId', 'Name', 'Ticket'], axis=1)\n",
    "test_df = test_df.drop(['Name','Ticket'], axis=1)"
   ]
  },
  {
   "cell_type": "code",
   "execution_count": 6,
   "id": "e274523f",
   "metadata": {
    "execution": {
     "iopub.execute_input": "2024-08-28T04:20:22.037682Z",
     "iopub.status.busy": "2024-08-28T04:20:22.037168Z",
     "iopub.status.idle": "2024-08-28T04:20:22.050336Z",
     "shell.execute_reply": "2024-08-28T04:20:22.048993Z"
    },
    "papermill": {
     "duration": 0.026165,
     "end_time": "2024-08-28T04:20:22.053207",
     "exception": false,
     "start_time": "2024-08-28T04:20:22.027042",
     "status": "completed"
    },
    "tags": []
   },
   "outputs": [
    {
     "data": {
      "text/plain": [
       "Pclass\n",
       "3    491\n",
       "1    216\n",
       "2    184\n",
       "Name: count, dtype: int64"
      ]
     },
     "execution_count": 6,
     "metadata": {},
     "output_type": "execute_result"
    }
   ],
   "source": [
    "train_df['Pclass'].value_counts()"
   ]
  },
  {
   "cell_type": "code",
   "execution_count": 7,
   "id": "1a05d09f",
   "metadata": {
    "execution": {
     "iopub.execute_input": "2024-08-28T04:20:22.073414Z",
     "iopub.status.busy": "2024-08-28T04:20:22.072899Z",
     "iopub.status.idle": "2024-08-28T04:20:22.090178Z",
     "shell.execute_reply": "2024-08-28T04:20:22.088742Z"
    },
    "papermill": {
     "duration": 0.032087,
     "end_time": "2024-08-28T04:20:22.093775",
     "exception": false,
     "start_time": "2024-08-28T04:20:22.061688",
     "status": "completed"
    },
    "tags": []
   },
   "outputs": [],
   "source": [
    "#범주형 데이터의 처리\n",
    "pclass_train_dummies = pd.get_dummies(train_df['Pclass'])\n",
    "pclass_test_dummies = pd.get_dummies(test_df['Pclass'])\n",
    "\n",
    "train_df.drop(['Pclass'], axis=1, inplace=True)\n",
    "test_df.drop(['Pclass'], axis=1, inplace=True)\n",
    "\n",
    "train_df = train_df.join(pclass_train_dummies)\n",
    "test_df = test_df.join(pclass_test_dummies)"
   ]
  },
  {
   "cell_type": "code",
   "execution_count": 8,
   "id": "85b8d4f6",
   "metadata": {
    "execution": {
     "iopub.execute_input": "2024-08-28T04:20:22.113986Z",
     "iopub.status.busy": "2024-08-28T04:20:22.113514Z",
     "iopub.status.idle": "2024-08-28T04:20:22.128888Z",
     "shell.execute_reply": "2024-08-28T04:20:22.127462Z"
    },
    "papermill": {
     "duration": 0.029006,
     "end_time": "2024-08-28T04:20:22.132000",
     "exception": false,
     "start_time": "2024-08-28T04:20:22.102994",
     "status": "completed"
    },
    "tags": []
   },
   "outputs": [],
   "source": [
    "sex_train_dummies = pd.get_dummies(train_df['Sex'])\n",
    "sex_test_dummies = pd.get_dummies(test_df['Sex'])\n",
    "\n",
    "sex_train_dummies.columns = ['Female', 'Male']\n",
    "sex_test_dummies.columns = ['Female', 'Male']\n",
    "\n",
    "train_df.drop(['Sex'], axis=1, inplace=True)\n",
    "test_df.drop(['Sex'], axis=1, inplace=True)\n",
    "\n",
    "train_df = train_df.join(sex_train_dummies)\n",
    "test_df = test_df.join(sex_test_dummies)"
   ]
  },
  {
   "cell_type": "code",
   "execution_count": 9,
   "id": "56ec5549",
   "metadata": {
    "execution": {
     "iopub.execute_input": "2024-08-28T04:20:22.150894Z",
     "iopub.status.busy": "2024-08-28T04:20:22.150355Z",
     "iopub.status.idle": "2024-08-28T04:20:22.161913Z",
     "shell.execute_reply": "2024-08-28T04:20:22.160272Z"
    },
    "papermill": {
     "duration": 0.025123,
     "end_time": "2024-08-28T04:20:22.165572",
     "exception": false,
     "start_time": "2024-08-28T04:20:22.140449",
     "status": "completed"
    },
    "tags": []
   },
   "outputs": [
    {
     "name": "stderr",
     "output_type": "stream",
     "text": [
      "/tmp/ipykernel_18/3528254014.py:2: FutureWarning: A value is trying to be set on a copy of a DataFrame or Series through chained assignment using an inplace method.\n",
      "The behavior will change in pandas 3.0. This inplace method will never work because the intermediate object on which we are setting values always behaves as a copy.\n",
      "\n",
      "For example, when doing 'df[col].method(value, inplace=True)', try using 'df.method({col: value}, inplace=True)' or df[col] = df[col].method(value) instead, to perform the operation inplace on the original object.\n",
      "\n",
      "\n",
      "  train_df[\"Age\"].fillna(train_df[\"Age\"].mean() , inplace=True)\n",
      "/tmp/ipykernel_18/3528254014.py:3: FutureWarning: A value is trying to be set on a copy of a DataFrame or Series through chained assignment using an inplace method.\n",
      "The behavior will change in pandas 3.0. This inplace method will never work because the intermediate object on which we are setting values always behaves as a copy.\n",
      "\n",
      "For example, when doing 'df[col].method(value, inplace=True)', try using 'df.method({col: value}, inplace=True)' or df[col] = df[col].method(value) instead, to perform the operation inplace on the original object.\n",
      "\n",
      "\n",
      "  test_df[\"Age\"].fillna(train_df[\"Age\"].mean() , inplace=True)\n"
     ]
    }
   ],
   "source": [
    "#나이는 연속형 데이터 -> 처리 필요 X. 평균값으로 NaN 데이터 채움\n",
    "train_df[\"Age\"].fillna(train_df[\"Age\"].mean() , inplace=True)\n",
    "test_df[\"Age\"].fillna(train_df[\"Age\"].mean() , inplace=True)"
   ]
  },
  {
   "cell_type": "code",
   "execution_count": 10,
   "id": "9a6439af",
   "metadata": {
    "execution": {
     "iopub.execute_input": "2024-08-28T04:20:22.185077Z",
     "iopub.status.busy": "2024-08-28T04:20:22.184601Z",
     "iopub.status.idle": "2024-08-28T04:20:22.192012Z",
     "shell.execute_reply": "2024-08-28T04:20:22.190873Z"
    },
    "papermill": {
     "duration": 0.021298,
     "end_time": "2024-08-28T04:20:22.195737",
     "exception": false,
     "start_time": "2024-08-28T04:20:22.174439",
     "status": "completed"
    },
    "tags": []
   },
   "outputs": [
    {
     "name": "stderr",
     "output_type": "stream",
     "text": [
      "/tmp/ipykernel_18/691511307.py:1: FutureWarning: A value is trying to be set on a copy of a DataFrame or Series through chained assignment using an inplace method.\n",
      "The behavior will change in pandas 3.0. This inplace method will never work because the intermediate object on which we are setting values always behaves as a copy.\n",
      "\n",
      "For example, when doing 'df[col].method(value, inplace=True)', try using 'df.method({col: value}, inplace=True)' or df[col] = df[col].method(value) instead, to perform the operation inplace on the original object.\n",
      "\n",
      "\n",
      "  test_df[\"Fare\"].fillna(0, inplace=True)\n"
     ]
    }
   ],
   "source": [
    "test_df[\"Fare\"].fillna(0, inplace=True)"
   ]
  },
  {
   "cell_type": "code",
   "execution_count": 11,
   "id": "499b0810",
   "metadata": {
    "execution": {
     "iopub.execute_input": "2024-08-28T04:20:22.215103Z",
     "iopub.status.busy": "2024-08-28T04:20:22.214650Z",
     "iopub.status.idle": "2024-08-28T04:20:22.223544Z",
     "shell.execute_reply": "2024-08-28T04:20:22.222228Z"
    },
    "papermill": {
     "duration": 0.021666,
     "end_time": "2024-08-28T04:20:22.226304",
     "exception": false,
     "start_time": "2024-08-28T04:20:22.204638",
     "status": "completed"
    },
    "tags": []
   },
   "outputs": [],
   "source": [
    "#cabin은 NaN이 대부분이므로 버림\n",
    "train_df = train_df.drop(['Cabin'], axis=1)\n",
    "test_df = test_df.drop(['Cabin'], axis=1)"
   ]
  },
  {
   "cell_type": "code",
   "execution_count": 12,
   "id": "0a26bcaf",
   "metadata": {
    "execution": {
     "iopub.execute_input": "2024-08-28T04:20:22.248336Z",
     "iopub.status.busy": "2024-08-28T04:20:22.247845Z",
     "iopub.status.idle": "2024-08-28T04:20:22.256884Z",
     "shell.execute_reply": "2024-08-28T04:20:22.255304Z"
    },
    "papermill": {
     "duration": 0.022867,
     "end_time": "2024-08-28T04:20:22.259808",
     "exception": false,
     "start_time": "2024-08-28T04:20:22.236941",
     "status": "completed"
    },
    "tags": []
   },
   "outputs": [
    {
     "name": "stderr",
     "output_type": "stream",
     "text": [
      "/tmp/ipykernel_18/2006740180.py:2: FutureWarning: A value is trying to be set on a copy of a DataFrame or Series through chained assignment using an inplace method.\n",
      "The behavior will change in pandas 3.0. This inplace method will never work because the intermediate object on which we are setting values always behaves as a copy.\n",
      "\n",
      "For example, when doing 'df[col].method(value, inplace=True)', try using 'df.method({col: value}, inplace=True)' or df[col] = df[col].method(value) instead, to perform the operation inplace on the original object.\n",
      "\n",
      "\n",
      "  train_df[\"Embarked\"].fillna('S', inplace=True)\n",
      "/tmp/ipykernel_18/2006740180.py:3: FutureWarning: A value is trying to be set on a copy of a DataFrame or Series through chained assignment using an inplace method.\n",
      "The behavior will change in pandas 3.0. This inplace method will never work because the intermediate object on which we are setting values always behaves as a copy.\n",
      "\n",
      "For example, when doing 'df[col].method(value, inplace=True)', try using 'df.method({col: value}, inplace=True)' or df[col] = df[col].method(value) instead, to perform the operation inplace on the original object.\n",
      "\n",
      "\n",
      "  test_df[\"Embarked\"].fillna('S', inplace=True)\n"
     ]
    }
   ],
   "source": [
    "#Embarked는 S가 대부분이므로 빈 부분은 S로 채움\n",
    "train_df[\"Embarked\"].fillna('S', inplace=True)\n",
    "test_df[\"Embarked\"].fillna('S', inplace=True)"
   ]
  },
  {
   "cell_type": "code",
   "execution_count": 13,
   "id": "6b6859fe",
   "metadata": {
    "execution": {
     "iopub.execute_input": "2024-08-28T04:20:22.281545Z",
     "iopub.status.busy": "2024-08-28T04:20:22.280166Z",
     "iopub.status.idle": "2024-08-28T04:20:22.296738Z",
     "shell.execute_reply": "2024-08-28T04:20:22.295075Z"
    },
    "papermill": {
     "duration": 0.030871,
     "end_time": "2024-08-28T04:20:22.300145",
     "exception": false,
     "start_time": "2024-08-28T04:20:22.269274",
     "status": "completed"
    },
    "tags": []
   },
   "outputs": [],
   "source": [
    "embarked_train_dummies = pd.get_dummies(train_df['Embarked'])\n",
    "embarked_test_dummies = pd.get_dummies(test_df['Embarked'])\n",
    "\n",
    "embarked_train_dummies.columns = ['S', 'C', 'Q']\n",
    "embarked_test_dummies.columns = ['S', 'C', 'Q']\n",
    "\n",
    "train_df.drop(['Embarked'], axis=1, inplace=True)\n",
    "test_df.drop(['Embarked'], axis=1, inplace=True)\n",
    "\n",
    "train_df = train_df.join(embarked_train_dummies)\n",
    "test_df = test_df.join(embarked_test_dummies)"
   ]
  },
  {
   "cell_type": "markdown",
   "id": "3bff4f11",
   "metadata": {
    "papermill": {
     "duration": 0.008442,
     "end_time": "2024-08-28T04:20:22.317393",
     "exception": false,
     "start_time": "2024-08-28T04:20:22.308951",
     "status": "completed"
    },
    "tags": []
   },
   "source": [
    "## 데이터 채우기 끝. 데이터 나누기"
   ]
  },
  {
   "cell_type": "code",
   "execution_count": 14,
   "id": "fa3ba262",
   "metadata": {
    "execution": {
     "iopub.execute_input": "2024-08-28T04:20:22.337963Z",
     "iopub.status.busy": "2024-08-28T04:20:22.337493Z",
     "iopub.status.idle": "2024-08-28T04:20:22.346702Z",
     "shell.execute_reply": "2024-08-28T04:20:22.345350Z"
    },
    "papermill": {
     "duration": 0.022875,
     "end_time": "2024-08-28T04:20:22.349633",
     "exception": false,
     "start_time": "2024-08-28T04:20:22.326758",
     "status": "completed"
    },
    "tags": []
   },
   "outputs": [],
   "source": [
    "X_train = train_df.drop(\"Survived\",axis=1)\n",
    "Y_train = train_df[\"Survived\"]\n",
    "X_test  = test_df.drop(\"PassengerId\",axis=1).copy()"
   ]
  },
  {
   "cell_type": "code",
   "execution_count": 15,
   "id": "d90d0e97",
   "metadata": {
    "execution": {
     "iopub.execute_input": "2024-08-28T04:20:22.369267Z",
     "iopub.status.busy": "2024-08-28T04:20:22.368768Z",
     "iopub.status.idle": "2024-08-28T04:20:22.468789Z",
     "shell.execute_reply": "2024-08-28T04:20:22.467154Z"
    },
    "papermill": {
     "duration": 0.114603,
     "end_time": "2024-08-28T04:20:22.473170",
     "exception": false,
     "start_time": "2024-08-28T04:20:22.358567",
     "status": "completed"
    },
    "tags": []
   },
   "outputs": [
    {
     "name": "stderr",
     "output_type": "stream",
     "text": [
      "/opt/conda/lib/python3.10/site-packages/sklearn/linear_model/_logistic.py:458: ConvergenceWarning: lbfgs failed to converge (status=1):\n",
      "STOP: TOTAL NO. of ITERATIONS REACHED LIMIT.\n",
      "\n",
      "Increase the number of iterations (max_iter) or scale the data as shown in:\n",
      "    https://scikit-learn.org/stable/modules/preprocessing.html\n",
      "Please also refer to the documentation for alternative solver options:\n",
      "    https://scikit-learn.org/stable/modules/linear_model.html#logistic-regression\n",
      "  n_iter_i = _check_optimize_result(\n"
     ]
    },
    {
     "name": "stdout",
     "output_type": "stream",
     "text": [
      "Accuracy on training set:  0.8058361391694725\n"
     ]
    }
   ],
   "source": [
    "# Convert all column names to string types\n",
    "X_train.columns = X_train.columns.astype(str)\n",
    "X_test.columns = X_test.columns.astype(str)\n",
    "\n",
    "# Now fit the model\n",
    "logreg = LogisticRegression()\n",
    "logreg.fit(X_train, Y_train)\n",
    "\n",
    "# Predict on test set\n",
    "Y_pred = logreg.predict(X_test)\n",
    "\n",
    "# Evaluate the model\n",
    "score = logreg.score(X_train, Y_train)\n",
    "print(\"Accuracy on training set: \", score)"
   ]
  },
  {
   "cell_type": "code",
   "execution_count": 16,
   "id": "c79f6e85",
   "metadata": {
    "execution": {
     "iopub.execute_input": "2024-08-28T04:20:22.514452Z",
     "iopub.status.busy": "2024-08-28T04:20:22.513207Z",
     "iopub.status.idle": "2024-08-28T04:20:22.647773Z",
     "shell.execute_reply": "2024-08-28T04:20:22.646450Z"
    },
    "papermill": {
     "duration": 0.158609,
     "end_time": "2024-08-28T04:20:22.650428",
     "exception": false,
     "start_time": "2024-08-28T04:20:22.491819",
     "status": "completed"
    },
    "tags": []
   },
   "outputs": [
    {
     "data": {
      "text/plain": [
       "0.6868686868686869"
      ]
     },
     "execution_count": 16,
     "metadata": {},
     "output_type": "execute_result"
    }
   ],
   "source": [
    "# Support Vector Machines\n",
    "\n",
    "svc = SVC()\n",
    "\n",
    "svc.fit(X_train, Y_train)\n",
    "\n",
    "Y_pred = svc.predict(X_test)\n",
    "\n",
    "svc.score(X_train, Y_train)"
   ]
  },
  {
   "cell_type": "code",
   "execution_count": 17,
   "id": "2a8fb585",
   "metadata": {
    "execution": {
     "iopub.execute_input": "2024-08-28T04:20:22.671041Z",
     "iopub.status.busy": "2024-08-28T04:20:22.670575Z",
     "iopub.status.idle": "2024-08-28T04:20:23.025551Z",
     "shell.execute_reply": "2024-08-28T04:20:23.024155Z"
    },
    "papermill": {
     "duration": 0.368633,
     "end_time": "2024-08-28T04:20:23.028413",
     "exception": false,
     "start_time": "2024-08-28T04:20:22.659780",
     "status": "completed"
    },
    "tags": []
   },
   "outputs": [
    {
     "data": {
      "text/plain": [
       "0.9820426487093153"
      ]
     },
     "execution_count": 17,
     "metadata": {},
     "output_type": "execute_result"
    }
   ],
   "source": [
    "# Random Forests\n",
    "\n",
    "random_forest = RandomForestClassifier(n_estimators=100)\n",
    "\n",
    "random_forest.fit(X_train, Y_train)\n",
    "\n",
    "Y_pred = random_forest.predict(X_test)\n",
    "\n",
    "random_forest.score(X_train, Y_train)"
   ]
  },
  {
   "cell_type": "code",
   "execution_count": 18,
   "id": "ec1567af",
   "metadata": {
    "execution": {
     "iopub.execute_input": "2024-08-28T04:20:23.049018Z",
     "iopub.status.busy": "2024-08-28T04:20:23.048579Z",
     "iopub.status.idle": "2024-08-28T04:20:23.160327Z",
     "shell.execute_reply": "2024-08-28T04:20:23.158956Z"
    },
    "papermill": {
     "duration": 0.125764,
     "end_time": "2024-08-28T04:20:23.163443",
     "exception": false,
     "start_time": "2024-08-28T04:20:23.037679",
     "status": "completed"
    },
    "tags": []
   },
   "outputs": [
    {
     "data": {
      "text/plain": [
       "0.835016835016835"
      ]
     },
     "execution_count": 18,
     "metadata": {},
     "output_type": "execute_result"
    }
   ],
   "source": [
    "knn = KNeighborsClassifier(n_neighbors = 3)\n",
    "\n",
    "knn.fit(X_train, Y_train)\n",
    "\n",
    "Y_pred = knn.predict(X_test)\n",
    "\n",
    "knn.score(X_train, Y_train)"
   ]
  },
  {
   "cell_type": "code",
   "execution_count": 19,
   "id": "1d5db61b",
   "metadata": {
    "execution": {
     "iopub.execute_input": "2024-08-28T04:20:23.184393Z",
     "iopub.status.busy": "2024-08-28T04:20:23.183944Z",
     "iopub.status.idle": "2024-08-28T04:20:23.545808Z",
     "shell.execute_reply": "2024-08-28T04:20:23.544324Z"
    },
    "papermill": {
     "duration": 0.375857,
     "end_time": "2024-08-28T04:20:23.548809",
     "exception": false,
     "start_time": "2024-08-28T04:20:23.172952",
     "status": "completed"
    },
    "tags": []
   },
   "outputs": [],
   "source": [
    "# Random Forests\n",
    "\n",
    "random_forest = RandomForestClassifier(n_estimators=100)\n",
    "random_forest.fit(X_train, Y_train)\n",
    "Y_pred = random_forest.predict(X_test)\n",
    "random_forest.score(X_train, Y_train)\n",
    "\n",
    "submission = pd.DataFrame({\n",
    "        \"PassengerId\": test_df[\"PassengerId\"],\n",
    "        \"Survived\": Y_pred\n",
    "    })\n",
    "submission.to_csv('titanic.csv', index=False)"
   ]
  },
  {
   "cell_type": "code",
   "execution_count": 20,
   "id": "a921db8f",
   "metadata": {
    "execution": {
     "iopub.execute_input": "2024-08-28T04:20:23.570069Z",
     "iopub.status.busy": "2024-08-28T04:20:23.569634Z",
     "iopub.status.idle": "2024-08-28T04:20:23.578230Z",
     "shell.execute_reply": "2024-08-28T04:20:23.577082Z"
    },
    "papermill": {
     "duration": 0.0223,
     "end_time": "2024-08-28T04:20:23.580914",
     "exception": false,
     "start_time": "2024-08-28T04:20:23.558614",
     "status": "completed"
    },
    "tags": []
   },
   "outputs": [],
   "source": [
    "import os\n",
    "import webbrowser\n",
    "\n",
    "# File path\n",
    "file_path = 'titanic.csv'\n",
    "\n",
    "# Open a file explorer window at the file location (works on Windows)\n",
    "if os.name == 'nt':\n",
    "    os.startfile(os.path.dirname(file_path))\n",
    "\n",
    "# For Mac, use the following:\n",
    "# os.system(f\"open -R {file_path}\")\n",
    "\n",
    "# For Linux, you can use:\n",
    "# webbrowser.open_new_tab(file_path)\n"
   ]
  }
 ],
 "metadata": {
  "kaggle": {
   "accelerator": "none",
   "dataSources": [
    {
     "databundleVersionId": 26502,
     "sourceId": 3136,
     "sourceType": "competition"
    }
   ],
   "dockerImageVersionId": 30761,
   "isGpuEnabled": false,
   "isInternetEnabled": true,
   "language": "python",
   "sourceType": "notebook"
  },
  "kernelspec": {
   "display_name": "Python 3",
   "language": "python",
   "name": "python3"
  },
  "language_info": {
   "codemirror_mode": {
    "name": "ipython",
    "version": 3
   },
   "file_extension": ".py",
   "mimetype": "text/x-python",
   "name": "python",
   "nbconvert_exporter": "python",
   "pygments_lexer": "ipython3",
   "version": "3.10.14"
  },
  "papermill": {
   "default_parameters": {},
   "duration": 10.438979,
   "end_time": "2024-08-28T04:20:24.314071",
   "environment_variables": {},
   "exception": null,
   "input_path": "__notebook__.ipynb",
   "output_path": "__notebook__.ipynb",
   "parameters": {},
   "start_time": "2024-08-28T04:20:13.875092",
   "version": "2.6.0"
  }
 },
 "nbformat": 4,
 "nbformat_minor": 5
}
